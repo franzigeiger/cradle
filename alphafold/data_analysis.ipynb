{
 "cells": [
  {
   "cell_type": "code",
   "execution_count": 3,
   "metadata": {
    "collapsed": true
   },
   "outputs": [],
   "source": [
    "import os\n",
    "import alphafold.alphafold_pytorch.utils as utils\n",
    "import pickle\n",
    "import matplotlib.pyplot as plt\n",
    "import numpy as np\n",
    "import alphafold.compare as compare"
   ]
  },
  {
   "cell_type": "code",
   "execution_count": null,
   "outputs": [],
   "source": [
    "input = np.load(f'data/3_1_1_1__Q9LMA7__BRENDA_sequence.npy', allow_pickle=True)"
   ],
   "metadata": {
    "collapsed": false,
    "pycharm": {
     "name": "#%%\n"
    }
   }
  },
  {
   "cell_type": "code",
   "execution_count": null,
   "outputs": [],
   "source": [
    "template = np.load(f'/home/franzi/Projects/cradle/alphafold/alphafold_pytorch/test_data/T1019s2.pkl', allow_pickle=True)"
   ],
   "metadata": {
    "collapsed": false,
    "pycharm": {
     "name": "#%%\n"
    }
   }
  },
  {
   "cell_type": "code",
   "execution_count": null,
   "outputs": [],
   "source": [
    "fluorescent = np.load(f'/home/franzi/Projects/cradle/alphafold/fluorescent_protein/fluorescent_protein.npy', allow_pickle=True)"
   ],
   "metadata": {
    "collapsed": false,
    "pycharm": {
     "name": "#%%\n"
    }
   }
  },
  {
   "cell_type": "code",
   "execution_count": null,
   "outputs": [],
   "source": [
    "for key in fluorescent[0].keys():\n",
    "    if isinstance(fluorescent[0][key], (np.ndarray, np.generic)):\n",
    "        print(key)\n",
    "        print(fluorescent[0][key].shape)\n",
    "        if key in template[0]:\n",
    "            print(template[0][key].shape)\n"
   ],
   "metadata": {
    "collapsed": false,
    "pycharm": {
     "name": "#%%\n"
    }
   }
  },
  {
   "cell_type": "code",
   "execution_count": 4,
   "outputs": [],
   "source": [
    "sequence = 'KVEPVGNAYGHWTKHGKEFPEYQNAKQYVDAAHNFMTNPPPGTLTKTRPNGDTLYYNPVTNVFASKDINGVPRTMFKPEKGIEYWNKQ'\n",
    "torison = np.load('/home/franzi/Projects/cradle/alphafold/alphafold_pytorch/T1019s2_out/Torsion/0/T1019s2-l64_s0.torsion', allow_pickle=True)\n",
    "distance = np.load('/home/franzi/Projects/cradle/alphafold/alphafold_pytorch/T1019s2_out/Distogram/ensemble/T1019s2.distance', allow_pickle=True)\n",
    "\n",
    "t_dict = dict(probs=torison, sequence=sequence)\n",
    "with open('T1019s2_test.torsion', 'wb') as fh:\n",
    "    pickle.dump(t_dict, fh)\n",
    "\n",
    "t_dict = dict(probs=distance, sequence=sequence)\n",
    "with open('T1019s2_test.distance', 'wb') as fh:\n",
    "    pickle.dump(t_dict, fh)\n"
   ],
   "metadata": {
    "collapsed": false,
    "pycharm": {
     "name": "#%%\n"
    }
   }
  }
 ],
 "metadata": {
  "kernelspec": {
   "display_name": "Python 3",
   "language": "python",
   "name": "python3"
  },
  "language_info": {
   "codemirror_mode": {
    "name": "ipython",
    "version": 2
   },
   "file_extension": ".py",
   "mimetype": "text/x-python",
   "name": "python",
   "nbconvert_exporter": "python",
   "pygments_lexer": "ipython2",
   "version": "2.7.6"
  }
 },
 "nbformat": 4,
 "nbformat_minor": 0
}